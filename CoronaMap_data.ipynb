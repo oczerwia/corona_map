{
 "cells": [
  {
   "cell_type": "markdown",
   "metadata": {},
   "source": [
    "# Corona Project\n"
   ]
  },
  {
   "cell_type": "code",
   "execution_count": 1,
   "metadata": {},
   "outputs": [],
   "source": [
    "import numpy as np \n",
    "import pandas as pd\n",
    "import geopandas as gpd\n",
    "import matplotlib.pyplot as plt\n",
    "%matplotlib inline\n",
    "import requests\n",
    "import json\n",
    "import plotly.express as px"
   ]
  },
  {
   "cell_type": "code",
   "execution_count": 2,
   "metadata": {},
   "outputs": [],
   "source": [
    "url = \"https://raw.githubusercontent.com/oczerwia/corona_map/main/landkreise_simplify20.geojson\"\n",
    "NRW_map =  requests.get(url)\n",
    "NRW_map = NRW_map.text\n",
    "NRW_data = json.loads(NRW_map)\n",
    "geo_df = gpd.read_file(url)\n",
    "geo_df.crs = {'init': 'epsg:4326'}"
   ]
  },
  {
   "cell_type": "code",
   "execution_count": 3,
   "metadata": {},
   "outputs": [],
   "source": [
    "RKI_url = \"https://services7.arcgis.com/mOBPykOjAyBO2ZKk/arcgis/rest/services/RKI_Landkreisdaten/FeatureServer/0/query?where=BL%20%3D%20%27NORDRHEIN-WESTFALEN%27&outFields=OBJECTID,ADE,GF,BSG,RS,AGS,SDV_RS,GEN,BEZ,IBZ,BEM,NBD,SN_L,SN_R,SN_K,SN_V1,SN_V2,SN_G,FK_S3,NUTS,RS_0,AGS_0,WSK,EWZ,KFL,DEBKG_ID,death_rate,cases,deaths,cases_per_100k,cases_per_population,BL,BL_ID,county,last_update,cases7_per_100k,recovered,EWZ_BL,cases7_bl_per_100k&outSR=4326&f=json\"\n",
    "RKI = requests.get(RKI_url)\n",
    "RKI = RKI.text\n",
    "RKI_data = json.loads(RKI)"
   ]
  },
  {
   "cell_type": "code",
   "execution_count": 4,
   "metadata": {},
   "outputs": [],
   "source": [
    "RKI_dataframe = pd.DataFrame(columns = [\"Name\", \"cases\",\"cases_per_100k\",\"deaths\"])\n",
    "RKI_dataframe[\"Name\"] = [name[\"attributes\"][\"GEN\"] for name in RKI_data[\"features\"]]\n",
    "RKI_dataframe[\"cases\"] = [name[\"attributes\"][\"cases\"] for name in RKI_data[\"features\"]]\n",
    "RKI_dataframe[\"cases_per_100k\"] = [name[\"attributes\"][\"cases7_per_100k\"] for name in RKI_data[\"features\"]]\n",
    "RKI_dataframe[\"deaths\"] = [name[\"attributes\"][\"deaths\"] for name in RKI_data[\"features\"]]"
   ]
  },
  {
   "cell_type": "code",
   "execution_count": 5,
   "metadata": {},
   "outputs": [],
   "source": [
    "population_df = pd.DataFrame(columns = [\"Name\", \"population\"])\n",
    "population_df[\"Name\"] = [cityname[\"properties\"][\"GEN\"] for cityname in NRW_data[\"features\"]]\n",
    "population_df[\"population\"] = [population[\"properties\"][\"destatis\"][\"population\"] for population in NRW_data[\"features\"]]"
   ]
  },
  {
   "cell_type": "code",
   "execution_count": 6,
   "metadata": {},
   "outputs": [
    {
     "data": {
      "text/html": [
       "<div>\n",
       "<style scoped>\n",
       "    .dataframe tbody tr th:only-of-type {\n",
       "        vertical-align: middle;\n",
       "    }\n",
       "\n",
       "    .dataframe tbody tr th {\n",
       "        vertical-align: top;\n",
       "    }\n",
       "\n",
       "    .dataframe thead th {\n",
       "        text-align: right;\n",
       "    }\n",
       "</style>\n",
       "<table border=\"1\" class=\"dataframe\">\n",
       "  <thead>\n",
       "    <tr style=\"text-align: right;\">\n",
       "      <th></th>\n",
       "      <th>Name</th>\n",
       "      <th>cases</th>\n",
       "      <th>cases_per_100k</th>\n",
       "      <th>deaths</th>\n",
       "      <th>population</th>\n",
       "    </tr>\n",
       "  </thead>\n",
       "  <tbody>\n",
       "    <tr>\n",
       "      <th>0</th>\n",
       "      <td>Düsseldorf</td>\n",
       "      <td>9062</td>\n",
       "      <td>160.964306</td>\n",
       "      <td>89</td>\n",
       "      <td>619294</td>\n",
       "    </tr>\n",
       "    <tr>\n",
       "      <th>1</th>\n",
       "      <td>Duisburg</td>\n",
       "      <td>9353</td>\n",
       "      <td>268.505633</td>\n",
       "      <td>133</td>\n",
       "      <td>498590</td>\n",
       "    </tr>\n",
       "    <tr>\n",
       "      <th>2</th>\n",
       "      <td>Essen</td>\n",
       "      <td>7020</td>\n",
       "      <td>146.544032</td>\n",
       "      <td>76</td>\n",
       "      <td>583109</td>\n",
       "    </tr>\n",
       "    <tr>\n",
       "      <th>3</th>\n",
       "      <td>Krefeld</td>\n",
       "      <td>3146</td>\n",
       "      <td>159.178953</td>\n",
       "      <td>36</td>\n",
       "      <td>227020</td>\n",
       "    </tr>\n",
       "    <tr>\n",
       "      <th>4</th>\n",
       "      <td>Mönchengladbach</td>\n",
       "      <td>3161</td>\n",
       "      <td>190.013561</td>\n",
       "      <td>65</td>\n",
       "      <td>261454</td>\n",
       "    </tr>\n",
       "  </tbody>\n",
       "</table>\n",
       "</div>"
      ],
      "text/plain": [
       "              Name  cases  cases_per_100k  deaths  population\n",
       "0       Düsseldorf   9062      160.964306      89      619294\n",
       "1         Duisburg   9353      268.505633     133      498590\n",
       "2            Essen   7020      146.544032      76      583109\n",
       "3          Krefeld   3146      159.178953      36      227020\n",
       "4  Mönchengladbach   3161      190.013561      65      261454"
      ]
     },
     "execution_count": 6,
     "metadata": {},
     "output_type": "execute_result"
    }
   ],
   "source": [
    "full_stats = RKI_dataframe.merge(population_df, how= \"inner\",on =\"Name\")\n",
    "full_stats.head()"
   ]
  },
  {
   "cell_type": "code",
   "execution_count": 7,
   "metadata": {},
   "outputs": [],
   "source": [
    "geo_df = geo_df.rename(columns={'geometry': 'geometry','GEN':'Name'}).set_geometry('geometry')\n",
    "geo_df.drop(columns = [\"ADE\", \"GF\", \"BSG\", \"RS\", \"AGS\", \"SDV_RS\",\"BEZ\", \"IBZ\", \"BEM\", \"SN_V2\", \"SN_G\", \"FK_S3\", \"NUTS\",\n",
    "                       \"RS_0\", \"AGS_0\", \"WSK\", \"DEBKG_ID\",\"NBD\", \"SN_L\", \"SN_R\", \"SN_K\", \"SN_V1\", \"destatis\"], inplace = True)"
   ]
  },
  {
   "cell_type": "code",
   "execution_count": 8,
   "metadata": {},
   "outputs": [],
   "source": [
    "full_stats = geo_df.merge(full_stats, how = \"inner\", on = \"Name\")"
   ]
  },
  {
   "cell_type": "code",
   "execution_count": 9,
   "metadata": {},
   "outputs": [
    {
     "data": {
      "text/html": [
       "<div>\n",
       "<style scoped>\n",
       "    .dataframe tbody tr th:only-of-type {\n",
       "        vertical-align: middle;\n",
       "    }\n",
       "\n",
       "    .dataframe tbody tr th {\n",
       "        vertical-align: top;\n",
       "    }\n",
       "\n",
       "    .dataframe thead th {\n",
       "        text-align: right;\n",
       "    }\n",
       "</style>\n",
       "<table border=\"1\" class=\"dataframe\">\n",
       "  <thead>\n",
       "    <tr style=\"text-align: right;\">\n",
       "      <th></th>\n",
       "      <th>Name</th>\n",
       "      <th>geometry</th>\n",
       "      <th>cases</th>\n",
       "      <th>cases_per_100k</th>\n",
       "      <th>deaths</th>\n",
       "      <th>population</th>\n",
       "    </tr>\n",
       "  </thead>\n",
       "  <tbody>\n",
       "    <tr>\n",
       "      <th>0</th>\n",
       "      <td>Düsseldorf</td>\n",
       "      <td>POLYGON ((6.75294 51.34988, 6.75306 51.34945, ...</td>\n",
       "      <td>9062</td>\n",
       "      <td>160.964306</td>\n",
       "      <td>89</td>\n",
       "      <td>619294</td>\n",
       "    </tr>\n",
       "    <tr>\n",
       "      <th>1</th>\n",
       "      <td>Duisburg</td>\n",
       "      <td>POLYGON ((6.70300 51.55403, 6.70729 51.55077, ...</td>\n",
       "      <td>9353</td>\n",
       "      <td>268.505633</td>\n",
       "      <td>133</td>\n",
       "      <td>498590</td>\n",
       "    </tr>\n",
       "    <tr>\n",
       "      <th>2</th>\n",
       "      <td>Essen</td>\n",
       "      <td>POLYGON ((7.01895 51.52054, 7.02071 51.51806, ...</td>\n",
       "      <td>7020</td>\n",
       "      <td>146.544032</td>\n",
       "      <td>76</td>\n",
       "      <td>583109</td>\n",
       "    </tr>\n",
       "    <tr>\n",
       "      <th>3</th>\n",
       "      <td>Krefeld</td>\n",
       "      <td>POLYGON ((6.54789 51.40013, 6.54496 51.39660, ...</td>\n",
       "      <td>3146</td>\n",
       "      <td>159.178953</td>\n",
       "      <td>36</td>\n",
       "      <td>227020</td>\n",
       "    </tr>\n",
       "    <tr>\n",
       "      <th>4</th>\n",
       "      <td>Mönchengladbach</td>\n",
       "      <td>POLYGON ((6.47750 51.23659, 6.47813 51.23580, ...</td>\n",
       "      <td>3161</td>\n",
       "      <td>190.013561</td>\n",
       "      <td>65</td>\n",
       "      <td>261454</td>\n",
       "    </tr>\n",
       "  </tbody>\n",
       "</table>\n",
       "</div>"
      ],
      "text/plain": [
       "              Name                                           geometry  cases  \\\n",
       "0       Düsseldorf  POLYGON ((6.75294 51.34988, 6.75306 51.34945, ...   9062   \n",
       "1         Duisburg  POLYGON ((6.70300 51.55403, 6.70729 51.55077, ...   9353   \n",
       "2            Essen  POLYGON ((7.01895 51.52054, 7.02071 51.51806, ...   7020   \n",
       "3          Krefeld  POLYGON ((6.54789 51.40013, 6.54496 51.39660, ...   3146   \n",
       "4  Mönchengladbach  POLYGON ((6.47750 51.23659, 6.47813 51.23580, ...   3161   \n",
       "\n",
       "   cases_per_100k  deaths  population  \n",
       "0      160.964306      89      619294  \n",
       "1      268.505633     133      498590  \n",
       "2      146.544032      76      583109  \n",
       "3      159.178953      36      227020  \n",
       "4      190.013561      65      261454  "
      ]
     },
     "execution_count": 9,
     "metadata": {},
     "output_type": "execute_result"
    }
   ],
   "source": [
    "full_stats.head()"
   ]
  },
  {
   "cell_type": "code",
   "execution_count": null,
   "metadata": {},
   "outputs": [],
   "source": []
  }
 ],
 "metadata": {
  "kernelspec": {
   "display_name": "Python 3",
   "language": "python",
   "name": "python3"
  },
  "language_info": {
   "codemirror_mode": {
    "name": "ipython",
    "version": 3
   },
   "file_extension": ".py",
   "mimetype": "text/x-python",
   "name": "python",
   "nbconvert_exporter": "python",
   "pygments_lexer": "ipython3",
   "version": "3.7.3"
  }
 },
 "nbformat": 4,
 "nbformat_minor": 4
}
